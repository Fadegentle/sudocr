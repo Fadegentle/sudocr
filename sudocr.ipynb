{
 "cells": [
  {
   "cell_type": "code",
   "execution_count": 27,
   "id": "78fd6a7fb2faf9c5",
   "metadata": {
    "ExecuteTime": {
     "end_time": "2023-12-18T05:27:38.024457600Z",
     "start_time": "2023-12-18T05:27:37.991909900Z"
    },
    "collapsed": true,
    "jupyter": {
     "outputs_hidden": true
    }
   },
   "outputs": [],
   "source": [
    "from dataclasses import dataclass\n",
    "\n",
    "import cv2\n",
    "import numpy as np\n",
    "from PIL import Image\n",
    "from paddleocr import PaddleOCR\n"
   ]
  },
  {
   "cell_type": "code",
   "execution_count": 28,
   "id": "13043122fe6886e3",
   "metadata": {
    "ExecuteTime": {
     "end_time": "2023-12-18T05:27:38.043868100Z",
     "start_time": "2023-12-18T05:27:37.995976500Z"
    },
    "collapsed": false,
    "jupyter": {
     "outputs_hidden": false
    }
   },
   "outputs": [],
   "source": [
    "dir = './pictures'\n",
    "fps = [\n",
    "    # 'demo.png',\n",
    "    'paper.jpg',\n",
    "    # 'board.png',\n",
    "    # 'sudoku.png',\n",
    "    # 'sudoku_num.png',\n",
    "    # 'sudoku_num_dark.png',\n",
    "    # 'sudoku_big_dark.png'\n",
    "]"
   ]
  },
  {
   "cell_type": "code",
   "execution_count": 29,
   "id": "ac3da0f2dae33bcc",
   "metadata": {
    "ExecuteTime": {
     "end_time": "2023-12-18T05:27:38.044885400Z",
     "start_time": "2023-12-18T05:27:38.011437300Z"
    },
    "collapsed": false,
    "jupyter": {
     "outputs_hidden": false
    }
   },
   "outputs": [],
   "source": [
    "Pixels = int\n",
    "\n",
    "@dataclass(frozen=True)\n",
    "class SudokuBounds:\n",
    "    top_left_x: Pixels\n",
    "    top_left_y: Pixels\n",
    "    width: Pixels\n",
    "    cell_width: Pixels\n",
    "\n",
    "\n",
    "@dataclass(frozen=True)\n",
    "class CellCoordinates:\n",
    "    x0: Pixels\n",
    "    y0: Pixels\n",
    "    x1: Pixels\n",
    "    y1: Pixels"
   ]
  },
  {
   "cell_type": "code",
   "execution_count": 30,
   "id": "2113180bd7604278",
   "metadata": {
    "ExecuteTime": {
     "end_time": "2023-12-18T05:27:38.047884700Z",
     "start_time": "2023-12-18T05:27:38.027460700Z"
    },
    "collapsed": false,
    "jupyter": {
     "outputs_hidden": false
    }
   },
   "outputs": [],
   "source": [
    "def show(*args):\n",
    "    for i, j in enumerate(args):\n",
    "        cv2.imshow(str(i), j)\n",
    "    cv2.waitKey(0)\n",
    "    cv2.destroyAllWindows()"
   ]
  },
  {
   "cell_type": "markdown",
   "id": "ee83009a6083064b",
   "metadata": {
    "collapsed": false,
    "jupyter": {
     "outputs_hidden": false
    }
   },
   "source": []
  },
  {
   "cell_type": "code",
   "execution_count": 31,
   "id": "a144a90a05f9a312",
   "metadata": {
    "ExecuteTime": {
     "end_time": "2023-12-18T05:27:38.070757100Z",
     "start_time": "2023-12-18T05:27:38.043868100Z"
    },
    "collapsed": false,
    "jupyter": {
     "outputs_hidden": false
    }
   },
   "outputs": [],
   "source": [
    "def transform(pts, img):  # TODO: Spline transform, remove this\n",
    "    pts = np.float32(pts)\n",
    "    top_l, top_r, bot_l, bot_r = pts[0], pts[1], pts[2], pts[3]\n",
    "\n",
    "    def pythagoras(pt1, pt2):\n",
    "        return np.sqrt((pt2[0] - pt1[0]) ** 2 + (pt2[1] - pt1[1]) ** 2)\n",
    "\n",
    "    width = int(max(pythagoras(bot_r, bot_l), pythagoras(top_r, top_l)))\n",
    "    height = int(max(pythagoras(top_r, bot_r), pythagoras(top_l, bot_l)))\n",
    "    square = max(width, height) // 9 * 9  # Making the image dimensions divisible by 9\n",
    "\n",
    "    dim = np.array(([0, 0], [square - 1, 0], [square - 1, square - 1], [0, square - 1]), dtype='float32')\n",
    "    matrix = cv2.getPerspectiveTransform(pts, dim)\n",
    "    warped = cv2.warpPerspective(img, matrix, (square, square))\n",
    "    show(warped)\n",
    "    return warped"
   ]
  },
  {
   "cell_type": "code",
   "execution_count": 32,
   "id": "d68dcc4ce27eb7b6",
   "metadata": {
    "ExecuteTime": {
     "end_time": "2023-12-18T05:27:38.076600200Z",
     "start_time": "2023-12-18T05:27:38.060896400Z"
    },
    "collapsed": false,
    "jupyter": {
     "outputs_hidden": false
    }
   },
   "outputs": [],
   "source": [
    "def find_sudoku_bounds(image):\n",
    "    gray = cv2.cvtColor(image, cv2.COLOR_BGR2GRAY)\n",
    "    thresh = cv2.adaptiveThreshold(gray, 255, cv2.ADAPTIVE_THRESH_GAUSSIAN_C, cv2.THRESH_BINARY, 11, 2)\n",
    "    \n",
    "    thresh = cv2.bitwise_not(thresh)\n",
    "    \n",
    "    kernel = cv2.getStructuringElement(cv2.MORPH_RECT, (2, 2))\n",
    "    dilated = cv2.dilate(thresh, kernel, iterations=1)\n",
    "    \n",
    "    # edges = cv2.Canny(dilated, 50, 100)\n",
    "    contours, hierarchy = cv2.findContours(dilated, cv2.RETR_EXTERNAL, cv2.CHAIN_APPROX_SIMPLE)\n",
    "    \n",
    "    # contours_hierarchy = list(filter(lambda c_h: (print(c_h[1]), c_h[1][3] == -1), zip(contours, hierarchy[0])))\n",
    "    # contours = [item[0] for item in contours_hierarchy]\n",
    "    contours = sorted(contours, key=cv2.contourArea, reverse=True)[:9]\n",
    "    \n",
    "    if len(contours) > 1:  # TODO：分写处理文件\n",
    "        contour_area0 = cv2.contourArea(contours[0])\n",
    "        contour_area1 = cv2.contourArea(contours[1])\n",
    "        if contour_area1 < 0.25 * contour_area0:\n",
    "            contours = [contours[0]]\n",
    "            largest_contour = np.squeeze(contours[0])\n",
    "\n",
    "            sums = [sum(i) for i in largest_contour]\n",
    "            differences = [i[0] - i[1] for i in largest_contour]\n",
    "        \n",
    "            top_left = np.argmin(sums)\n",
    "            top_right = np.argmax(differences)\n",
    "            bottom_left = np.argmax(sums)\n",
    "            bottom_right = np.argmin(differences)\n",
    "        \n",
    "            corners = [largest_contour[top_left], largest_contour[top_right], largest_contour[bottom_left],\n",
    "                       largest_contour[bottom_right]]\n",
    "            return transform(corners, image)\n",
    "\n",
    "    color = (0, 0, 255)  # (B, G, R)\n",
    "    \n",
    "    # 绘制轮廓\n",
    "    # contours_n = len(contours)\n",
    "    for i, contour in enumerate(contours):\n",
    "        res = cv2.drawContours(image.copy(), [contour], -1, color, 3)\n",
    "        # cv2.imshow(f'Contour {i+1}/{contours_n}', res)\n",
    "        # cv2.waitKey(0)\n",
    "\n",
    "    min_x = min_y = 10000\n",
    "    max_x = max_y = 0\n",
    "    \n",
    "    for contour in contours:\n",
    "        perimeter = cv2.arcLength(contour, True)\n",
    "        approx = cv2.approxPolyDP(contour, 0.005 * perimeter, True)\n",
    "        \n",
    "        for a in approx:\n",
    "            x, y = a[0][0], a[0][1]\n",
    "            if x < min_x:\n",
    "                min_x = x\n",
    "            elif x > max_x:\n",
    "                max_x = x\n",
    "                \n",
    "            if y < min_y:\n",
    "                min_y = y\n",
    "            elif y > max_y:\n",
    "                max_y = y\n",
    "                \n",
    "\n",
    "    top_left_x = min_x\n",
    "    top_left_y = min_y\n",
    "    square_width = max(max_x-min_x, max_y-min_y)\n",
    "    \n",
    "    cropped_image = np.array(image)[top_left_y:top_left_y + square_width, top_left_x:top_left_x + square_width]\n",
    "    return cropped_image\n",
    "    "
   ]
  },
  {
   "cell_type": "code",
   "execution_count": 33,
   "id": "73f4454caf58a5d3",
   "metadata": {
    "ExecuteTime": {
     "end_time": "2023-12-18T05:27:38.087614400Z",
     "start_time": "2023-12-18T05:27:38.072757600Z"
    },
    "collapsed": false,
    "jupyter": {
     "outputs_hidden": false
    }
   },
   "outputs": [],
   "source": [
    "def crop_to_sudoku(screenshot):\n",
    "    handle_img = find_sudoku_bounds(screenshot)\n",
    "    gray = cv2.cvtColor(handle_img, cv2.COLOR_BGR2GRAY)\n",
    "    thresh = cv2.adaptiveThreshold(gray, 255, cv2.ADAPTIVE_THRESH_GAUSSIAN_C, cv2.THRESH_BINARY, 11, 2)\n",
    "    \n",
    "    show(handle_img, gray, thresh)\n",
    "    \n",
    "    return Image.fromarray(thresh)"
   ]
  },
  {
   "cell_type": "code",
   "execution_count": 34,
   "id": "c9874e28f19027bc",
   "metadata": {
    "ExecuteTime": {
     "end_time": "2023-12-18T05:27:38.103662500Z",
     "start_time": "2023-12-18T05:27:38.088615800Z"
    },
    "collapsed": false,
    "jupyter": {
     "outputs_hidden": false
    }
   },
   "outputs": [],
   "source": [
    "def get_sudoku_cells_coordinates(cell_width):\n",
    "    border_offset: Pixels = 5\n",
    "    cells = []\n",
    "\n",
    "    for row in range(9):\n",
    "        for col in range(9):\n",
    "            x0 = col * cell_width + border_offset\n",
    "            y0 = row * cell_width + border_offset\n",
    "            x1 = x0 + cell_width - border_offset\n",
    "            y1 = y0 + cell_width - border_offset\n",
    "            cells.append(CellCoordinates(x0, y0, x1, y1))\n",
    "\n",
    "    return cells"
   ]
  },
  {
   "cell_type": "code",
   "execution_count": 35,
   "id": "5891ca2a09343d5b",
   "metadata": {
    "ExecuteTime": {
     "end_time": "2023-12-18T05:27:41.391997700Z",
     "start_time": "2023-12-18T05:27:38.103662500Z"
    },
    "collapsed": false,
    "jupyter": {
     "outputs_hidden": false
    }
   },
   "outputs": [
    {
     "name": "stdout",
     "output_type": "stream",
     "text": [
      "[2023/12/18 13:27:38] ppocr DEBUG: Namespace(alpha=1.0, alphacolor=(255, 255, 255), benchmark=False, beta=1.0, binarize=False, cls_batch_num=6, cls_image_shape='3, 48, 192', cls_model_dir='C:\\\\Users\\\\Fadegentle/.paddleocr/whl\\\\cls\\\\ch_ppocr_mobile_v2.0_cls_infer', cls_thresh=0.9, cpu_threads=10, crop_res_save_dir='./output', det=True, det_algorithm='DB', det_box_type='quad', det_db_box_thresh=0.6, det_db_score_mode='fast', det_db_thresh=0.3, det_db_unclip_ratio=1.5, det_east_cover_thresh=0.1, det_east_nms_thresh=0.2, det_east_score_thresh=0.8, det_limit_side_len=960, det_limit_type='max', det_model_dir='C:\\\\Users\\\\Fadegentle/.paddleocr/whl\\\\det\\\\en\\\\en_PP-OCRv3_det_infer', det_pse_box_thresh=0.85, det_pse_min_area=16, det_pse_scale=1, det_pse_thresh=0, det_sast_nms_thresh=0.2, det_sast_score_thresh=0.5, draw_img_save_dir='./inference_results', drop_score=0.5, e2e_algorithm='PGNet', e2e_char_dict_path='./ppocr/utils/ic15_dict.txt', e2e_limit_side_len=768, e2e_limit_type='max', e2e_model_dir=None, e2e_pgnet_mode='fast', e2e_pgnet_score_thresh=0.5, e2e_pgnet_valid_set='totaltext', enable_mkldnn=False, fourier_degree=5, gpu_id=0, gpu_mem=500, help='==SUPPRESS==', image_dir=None, image_orientation=False, invert=False, ir_optim=True, kie_algorithm='LayoutXLM', label_list=['0', '180'], lang='en', layout=True, layout_dict_path=None, layout_model_dir=None, layout_nms_threshold=0.5, layout_score_threshold=0.5, max_batch_size=10, max_text_length=25, merge_no_span_structure=True, min_subgraph_size=15, mode='structure', ocr=True, ocr_order_method=None, ocr_version='PP-OCRv4', output='./output', page_num=0, precision='fp32', process_id=0, re_model_dir=None, rec=True, rec_algorithm='SVTR_LCNet', rec_batch_num=6, rec_char_dict_path='C:\\\\Users\\\\Fadegentle\\\\Softwares\\\\anaconda\\\\envs\\\\pd\\\\lib\\\\site-packages\\\\paddleocr\\\\ppocr\\\\utils\\\\en_dict.txt', rec_image_inverse=True, rec_image_shape='3, 48, 320', rec_model_dir='C:\\\\Users\\\\Fadegentle/.paddleocr/whl\\\\rec\\\\en\\\\en_PP-OCRv4_rec_infer', recovery=False, save_crop_res=False, save_log_path='./log_output/', scales=[8, 16, 32], ser_dict_path='../train_data/XFUND/class_list_xfun.txt', ser_model_dir=None, show_log=True, sr_batch_num=1, sr_image_shape='3, 32, 128', sr_model_dir=None, structure_version='PP-StructureV2', table=True, table_algorithm='TableAttn', table_char_dict_path=None, table_max_len=488, table_model_dir=None, total_process_num=1, type='ocr', use_angle_cls=False, use_dilation=False, use_gpu=True, use_mp=False, use_npu=False, use_onnx=False, use_pdf2docx_api=False, use_pdserving=False, use_space_char=True, use_tensorrt=False, use_visual_backbone=True, use_xpu=False, vis_font_path='./doc/fonts/simfang.ttf', warmup=False)\n"
     ]
    }
   ],
   "source": [
    "OCR = PaddleOCR(lang='en', use_gpu=True)"
   ]
  },
  {
   "cell_type": "code",
   "execution_count": 36,
   "id": "3539c0cbf38ba56b",
   "metadata": {
    "ExecuteTime": {
     "end_time": "2023-12-18T05:27:41.409071100Z",
     "start_time": "2023-12-18T05:27:41.396005Z"
    },
    "collapsed": false,
    "jupyter": {
     "outputs_hidden": false
    }
   },
   "outputs": [],
   "source": [
    "def recognize_digit(cell_image):\n",
    "    recognition_data = OCR.ocr(np.array(cell_image), det=False, rec=True, cls=False)\n",
    "    char = (recognition_data[0][0][0] if recognition_data else '').strip().replace(':', '8')\n",
    "    \n",
    "    if char.isdigit():\n",
    "        print(recognition_data, char)\n",
    "    else:\n",
    "        return ''\n",
    "\n",
    "    return char\n",
    "    \n",
    "    "
   ]
  },
  {
   "cell_type": "code",
   "execution_count": 37,
   "id": "cc085824f4de1d00",
   "metadata": {
    "ExecuteTime": {
     "end_time": "2023-12-18T05:27:41.426351600Z",
     "start_time": "2023-12-18T05:27:41.411071400Z"
    },
    "collapsed": false,
    "jupyter": {
     "outputs_hidden": false
    }
   },
   "outputs": [],
   "source": [
    "def recognize_sudoku(path):\n",
    "    # full_image = capture_full_screen()\n",
    "    image = cv2.imread(path)\n",
    "    img = crop_to_sudoku(image)\n",
    "    cell_width = img.size[0] // 9\n",
    "    cells_coordinates = get_sudoku_cells_coordinates(cell_width)\n",
    "\n",
    "    digits = []\n",
    "    for cell in cells_coordinates:\n",
    "        cell_img = img.crop((cell.x0, cell.y0, cell.x1, cell.y1))\n",
    "        digit = recognize_digit(cell_img)\n",
    "        digits.append(digit)\n",
    "\n",
    "    grid = []\n",
    "    for i in range(0, len(digits), 9):\n",
    "        grid.append(digits[i:i + 9])\n",
    "\n",
    "    return grid"
   ]
  },
  {
   "cell_type": "code",
   "execution_count": 38,
   "id": "5473f9ca22a130db",
   "metadata": {
    "ExecuteTime": {
     "end_time": "2023-12-18T05:27:41.439965800Z",
     "start_time": "2023-12-18T05:27:41.426351600Z"
    },
    "collapsed": false,
    "jupyter": {
     "outputs_hidden": false
    }
   },
   "outputs": [],
   "source": [
    "def prettier(puzzle):\n",
    "    print('*-----------*')\n",
    "    for r, i in enumerate(puzzle):\n",
    "        if r in [3, 6, 9]:\n",
    "            print('|---+---+---|')\n",
    "        for c, j in enumerate(i):\n",
    "            if c in [0, 3, 6]:\n",
    "                print('|', end='')\n",
    "            print(j if j else '.', end='')\n",
    "        print('|')\n",
    "    print('*-----------*')"
   ]
  },
  {
   "cell_type": "code",
   "execution_count": 39,
   "id": "70000bd83cc19b5f",
   "metadata": {
    "ExecuteTime": {
     "end_time": "2023-12-18T05:27:48.268764900Z",
     "start_time": "2023-12-18T05:27:41.441966200Z"
    },
    "collapsed": false,
    "jupyter": {
     "outputs_hidden": false
    }
   },
   "outputs": [
    {
     "name": "stdout",
     "output_type": "stream",
     "text": [
      "[[('6', 0.9410324692726135)]] 6\n",
      "[[('4', 0.9235805869102478)]] 4\n",
      "[[('7', 0.6330481171607971)]] 7\n",
      "[[('7', 0.9717089533805847)]] 7\n",
      "[[('6', 0.8688789010047913)]] 6\n",
      "[[('9', 0.9238210320472717)]] 9\n",
      "[[('5', 0.96817946434021)]] 5\n",
      "[[('8', 0.908908486366272)]] 8\n",
      "[[('7', 0.9093402028083801)]] 7\n",
      "[[('2', 0.9338260293006897)]] 2\n",
      "[[('9', 0.8680936098098755)]] 9\n",
      "[[('3', 0.9880919456481934)]] 3\n",
      "[[('8', 0.9728391170501709)]] 8\n",
      "[[('5', 0.9840741157531738)]] 5\n",
      "[[('4', 0.9827737808227539)]] 4\n",
      "[[('3', 0.9924730062484741)]] 3\n",
      "[[('1', 0.5723848342895508)]] 1\n",
      "[[('7', 0.8570005893707275)]] 7\n",
      "[[('5', 0.9940098524093628)]] 5\n",
      "[[('2', 0.9972352385520935)]] 2\n",
      "[[('3', 0.9947984218597412)]] 3\n",
      "[[('2', 0.9907593727111816)]] 2\n",
      "[[('8', 0.9599323868751526)]] 8\n",
      "[[('2', 0.9890355467796326)]] 2\n",
      "[[('3', 0.9817011952400208)]] 3\n",
      "[[('1', 0.36261889338493347)]] 1\n",
      "paper.jpg 识别结果为：\n",
      "*-----------*\n",
      "|...|6.4|7..|\n",
      "|7.6|...|..9|\n",
      "|...|..5|.8.|\n",
      "|---+---+---|\n",
      "|.7.|.2.|.93|\n",
      "|8..|...|..5|\n",
      "|43.|.1.|.7.|\n",
      "|---+---+---|\n",
      "|.5.|2..|...|\n",
      "|3..|...|2.8|\n",
      "|..2|3.1|...|\n",
      "*-----------*\n"
     ]
    }
   ],
   "source": [
    "for fp in fps:\n",
    "    puzzle = recognize_sudoku(dir+fp)\n",
    "    print(f'{fp} 识别结果为：')\n",
    "    # print(puzzle)\n",
    "    prettier(puzzle)\n"
   ]
  }
 ],
 "metadata": {
  "kernelspec": {
   "display_name": "Python [conda env:pd] *",
   "language": "python",
   "name": "conda-env-pd-py"
  },
  "language_info": {
   "codemirror_mode": {
    "name": "ipython",
    "version": 3
   },
   "file_extension": ".py",
   "mimetype": "text/x-python",
   "name": "python",
   "nbconvert_exporter": "python",
   "pygments_lexer": "ipython3",
   "version": "3.8.18"
  }
 },
 "nbformat": 4,
 "nbformat_minor": 5
}
